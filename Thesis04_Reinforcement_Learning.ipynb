{
 "cells": [
  {
   "cell_type": "markdown",
   "metadata": {},
   "source": [
    "# COVID-19 Detection Using Multi-Phase Training of ConvNets with Multi-Class Imbalanced Chest CT Scan Data\n",
    "\n",
    "The main sections of the notebook are:\n",
    "\n",
    "1. [Import Needed Libraries](#a)\n",
    "2. [Logistic Regression](#b)\n",
    "3. [Training with smotesampled Data](#c)\n",
    "4. [Two-Phase Training with Undersampling](#d)\n",
    "5. [Multi-Phase Training with Undersampling](#e)\n",
    "\n",
    "<div style=\"text-align: right\"> Ahmet Talha Yiğit / 507191101 </div>"
   ]
  },
  {
   "cell_type": "markdown",
   "metadata": {},
   "source": [
    "<a id=’a’></a>\n",
    "### 1. Import Needed Libraries"
   ]
  },
  {
   "cell_type": "code",
   "execution_count": 1,
   "metadata": {},
   "outputs": [
    {
     "name": "stderr",
     "output_type": "stream",
     "text": [
      "c:\\Users\\ahmet\\anaconda3\\envs\\DL\\lib\\site-packages\\tqdm\\auto.py:22: TqdmWarning: IProgress not found. Please update jupyter and ipywidgets. See https://ipywidgets.readthedocs.io/en/stable/user_install.html\n",
      "  from .autonotebook import tqdm as notebook_tqdm\n"
     ]
    }
   ],
   "source": [
    "import numpy as np\n",
    "import pandas as pd\n",
    "import matplotlib.pyplot as plt\n",
    "from sklearn.linear_model import LogisticRegression\n",
    "from sklearn.tree import DecisionTreeClassifier\n",
    "from sklearn.svm import SVC\n",
    "from lightgbm import LGBMClassifier\n",
    "from sklearn.metrics import confusion_matrix,precision_recall_fscore_support,classification_report\n",
    "from sklearn.metrics import average_precision_score,PrecisionRecallDisplay, precision_recall_curve\n",
    "from sklearn.metrics import accuracy_score, precision_score, recall_score, f1_score, roc_auc_score\n",
    "from sklearn.model_selection import PredefinedSplit,GridSearchCV\n",
    "from sklearn.model_selection import train_test_split\n",
    "\n",
    "from imblearn.under_sampling import RandomUnderSampler\n",
    "from imblearn.over_sampling import RandomOverSampler, SMOTE \n",
    "from imblearn.combine import SMOTEENN\n",
    "\n",
    "# Import needed packages for the model building and stage\n",
    "#from skimage import io, transform\n",
    "import os\n",
    "from PIL import Image\n",
    "import torch\n",
    "import torch.nn as nn\n",
    "import torch.nn.functional as F\n",
    "from torch.utils.data import Dataset, DataLoader\n",
    "from torchvision import transforms, utils       \n",
    "from torchvision.utils import make_grid\n",
    "import torch.optim as optim"
   ]
  },
  {
   "cell_type": "code",
   "execution_count": 2,
   "metadata": {},
   "outputs": [],
   "source": [
    "def lift_scorer(target, pred_proba):\n",
    "    \n",
    "    df = pd.DataFrame(pred_proba)\n",
    "    df.columns = ['pred_proba']\n",
    "    df['target'] = target.values\n",
    "    df['pred_proba_rank'] = df['pred_proba'].rank(ascending = False).astype(int)\n",
    "    lift = round(df[df['pred_proba_rank'] <= round(df['pred_proba_rank'].max() * (1/100), 0)]['target'].sum() / df['target'].sum() * 100, 1)\n",
    "\n",
    "    return lift"
   ]
  },
  {
   "cell_type": "code",
   "execution_count": 3,
   "metadata": {},
   "outputs": [],
   "source": [
    "X_train = pd.read_pickle('./Data/X_train_preprocessed.pkl')\n",
    "y_train = pd.read_pickle('./Data/y_train_preprocessed.pkl')\n",
    "X_val = pd.read_pickle('./Data/X_val_preprocessed.pkl')\n",
    "y_val = pd.read_pickle('./Data/y_val_preprocessed.pkl')\n",
    "X_test = pd.read_pickle('./Data/X_test_preprocessed.pkl')\n",
    "y_test = pd.read_pickle('./Data/y_test_preprocessed.pkl')"
   ]
  },
  {
   "cell_type": "code",
   "execution_count": 4,
   "metadata": {},
   "outputs": [
    {
     "data": {
      "text/plain": [
       "((60000, 33), (60000,), (7500, 33), (7500,), (7500, 33), (7500,))"
      ]
     },
     "execution_count": 4,
     "metadata": {},
     "output_type": "execute_result"
    }
   ],
   "source": [
    "X_train.shape, y_train.shape, X_val.shape, y_val.shape, X_test.shape, y_test.shape"
   ]
  },
  {
   "cell_type": "code",
   "execution_count": 5,
   "metadata": {},
   "outputs": [],
   "source": [
    "X_train = X_train.reset_index()\n",
    "y_train = y_train.reset_index()\n",
    "X_val = X_val.reset_index()\n",
    "y_val = y_val.reset_index()\n",
    "X_test = X_test.reset_index()\n",
    "y_test = y_test.reset_index()\n",
    "\n",
    "X_train['idx'] = 'Train'\n",
    "y_train['idx'] = 'Train'\n",
    "X_val['idx'] = 'Val'\n",
    "y_val['idx'] = 'Val'\n",
    "X_test['idx'] = 'Test'\n",
    "y_test['idx'] = 'Test'\n",
    "\n",
    "X_train['index'] = X_train['index'].astype('str')\n",
    "y_train['index'] = y_train['index'].astype('str')\n",
    "X_val['index'] = X_val['index'].astype('str')\n",
    "y_val['index'] = y_val['index'].astype('str')\n",
    "X_test['index'] = X_test['index'].astype('str')\n",
    "y_test['index'] = y_test['index'].astype('str')\n",
    "\n",
    "X_train['index'] = X_train[[\"index\", \"idx\"]].apply(\"-\".join, axis=1)\n",
    "y_train['index'] = y_train[[\"index\", \"idx\"]].apply(\"-\".join, axis=1)\n",
    "X_val['index'] = X_val[[\"index\", \"idx\"]].apply(\"-\".join, axis=1)\n",
    "y_val['index'] = y_val[[\"index\", \"idx\"]].apply(\"-\".join, axis=1)\n",
    "X_test['index'] = X_test[[\"index\", \"idx\"]].apply(\"-\".join, axis=1)\n",
    "y_test['index'] = y_test[[\"index\", \"idx\"]].apply(\"-\".join, axis=1)\n",
    "\n",
    "X_train = X_train.set_index('index')\n",
    "y_train = y_train.set_index('index')\n",
    "X_val = X_val.set_index('index')\n",
    "y_val = y_val.set_index('index')\n",
    "X_test = X_test.set_index('index')\n",
    "y_test = y_test.set_index('index')\n",
    "\n",
    "X_train = X_train.drop('idx', axis = 1)\n",
    "y_train = y_train.drop('idx', axis = 1)\n",
    "X_val = X_val.drop('idx', axis = 1)\n",
    "y_val = y_val.drop('idx', axis = 1)\n",
    "X_test = X_test.drop('idx', axis = 1)\n",
    "y_test = y_test.drop('idx', axis = 1)"
   ]
  },
  {
   "cell_type": "code",
   "execution_count": 6,
   "metadata": {},
   "outputs": [
    {
     "data": {
      "text/plain": [
       "((60000, 33), (60000, 1), (7500, 33), (7500, 1), (7500, 33), (7500, 1))"
      ]
     },
     "execution_count": 6,
     "metadata": {},
     "output_type": "execute_result"
    }
   ],
   "source": [
    "X_train.shape, y_train.shape, X_val.shape, y_val.shape, X_test.shape, y_test.shape"
   ]
  },
  {
   "cell_type": "code",
   "execution_count": 7,
   "metadata": {},
   "outputs": [
    {
     "data": {
      "text/html": [
       "<div>\n",
       "<style scoped>\n",
       "    .dataframe tbody tr th:only-of-type {\n",
       "        vertical-align: middle;\n",
       "    }\n",
       "\n",
       "    .dataframe tbody tr th {\n",
       "        vertical-align: top;\n",
       "    }\n",
       "\n",
       "    .dataframe thead th {\n",
       "        text-align: right;\n",
       "    }\n",
       "</style>\n",
       "<table border=\"1\" class=\"dataframe\">\n",
       "  <thead>\n",
       "    <tr style=\"text-align: right;\">\n",
       "      <th></th>\n",
       "      <th>Var_1</th>\n",
       "      <th>Var_2</th>\n",
       "      <th>Var_3</th>\n",
       "      <th>Var_4</th>\n",
       "      <th>Var_5</th>\n",
       "      <th>Var_6</th>\n",
       "      <th>Var_7</th>\n",
       "      <th>Var_8</th>\n",
       "      <th>Var_9</th>\n",
       "      <th>Var_10</th>\n",
       "      <th>...</th>\n",
       "      <th>Var_27</th>\n",
       "      <th>Var_28</th>\n",
       "      <th>Var_30</th>\n",
       "      <th>Var_31</th>\n",
       "      <th>Var_33</th>\n",
       "      <th>Var_34</th>\n",
       "      <th>Var_36</th>\n",
       "      <th>Var_38</th>\n",
       "      <th>Var_39</th>\n",
       "      <th>Var_41</th>\n",
       "    </tr>\n",
       "    <tr>\n",
       "      <th>index</th>\n",
       "      <th></th>\n",
       "      <th></th>\n",
       "      <th></th>\n",
       "      <th></th>\n",
       "      <th></th>\n",
       "      <th></th>\n",
       "      <th></th>\n",
       "      <th></th>\n",
       "      <th></th>\n",
       "      <th></th>\n",
       "      <th></th>\n",
       "      <th></th>\n",
       "      <th></th>\n",
       "      <th></th>\n",
       "      <th></th>\n",
       "      <th></th>\n",
       "      <th></th>\n",
       "      <th></th>\n",
       "      <th></th>\n",
       "      <th></th>\n",
       "      <th></th>\n",
       "    </tr>\n",
       "  </thead>\n",
       "  <tbody>\n",
       "    <tr>\n",
       "      <th>60075-Train</th>\n",
       "      <td>-0.109742</td>\n",
       "      <td>1.134404</td>\n",
       "      <td>-1.009085</td>\n",
       "      <td>-3.644704</td>\n",
       "      <td>-1.627865</td>\n",
       "      <td>-0.470549</td>\n",
       "      <td>0.480831</td>\n",
       "      <td>0.641715</td>\n",
       "      <td>0.194911</td>\n",
       "      <td>0.634267</td>\n",
       "      <td>...</td>\n",
       "      <td>-0.144079</td>\n",
       "      <td>-0.247141</td>\n",
       "      <td>-0.249080</td>\n",
       "      <td>0.240094</td>\n",
       "      <td>-0.396241</td>\n",
       "      <td>-1.289230</td>\n",
       "      <td>-0.039831</td>\n",
       "      <td>-0.345385</td>\n",
       "      <td>-0.233373</td>\n",
       "      <td>-0.006544</td>\n",
       "    </tr>\n",
       "    <tr>\n",
       "      <th>27225-Train</th>\n",
       "      <td>-0.109742</td>\n",
       "      <td>0.075986</td>\n",
       "      <td>0.977945</td>\n",
       "      <td>-0.731477</td>\n",
       "      <td>-1.627865</td>\n",
       "      <td>-0.470549</td>\n",
       "      <td>0.480831</td>\n",
       "      <td>0.641715</td>\n",
       "      <td>0.194911</td>\n",
       "      <td>0.634267</td>\n",
       "      <td>...</td>\n",
       "      <td>-0.144079</td>\n",
       "      <td>-0.247141</td>\n",
       "      <td>-0.249080</td>\n",
       "      <td>0.240094</td>\n",
       "      <td>0.533820</td>\n",
       "      <td>0.640053</td>\n",
       "      <td>-0.039831</td>\n",
       "      <td>-0.345385</td>\n",
       "      <td>-0.233373</td>\n",
       "      <td>-0.006544</td>\n",
       "    </tr>\n",
       "    <tr>\n",
       "      <th>403-Train</th>\n",
       "      <td>-0.109742</td>\n",
       "      <td>0.075986</td>\n",
       "      <td>0.702450</td>\n",
       "      <td>-0.631123</td>\n",
       "      <td>0.562187</td>\n",
       "      <td>-0.470549</td>\n",
       "      <td>0.480831</td>\n",
       "      <td>0.641715</td>\n",
       "      <td>0.194911</td>\n",
       "      <td>0.634267</td>\n",
       "      <td>...</td>\n",
       "      <td>0.063240</td>\n",
       "      <td>-0.247141</td>\n",
       "      <td>4.014773</td>\n",
       "      <td>0.240094</td>\n",
       "      <td>2.491077</td>\n",
       "      <td>0.640053</td>\n",
       "      <td>-0.039831</td>\n",
       "      <td>-0.345385</td>\n",
       "      <td>-0.233373</td>\n",
       "      <td>-0.006544</td>\n",
       "    </tr>\n",
       "    <tr>\n",
       "      <th>27953-Train</th>\n",
       "      <td>-0.109742</td>\n",
       "      <td>-0.408430</td>\n",
       "      <td>0.702450</td>\n",
       "      <td>1.045385</td>\n",
       "      <td>0.613346</td>\n",
       "      <td>-0.470549</td>\n",
       "      <td>0.480831</td>\n",
       "      <td>0.641715</td>\n",
       "      <td>0.194911</td>\n",
       "      <td>0.634267</td>\n",
       "      <td>...</td>\n",
       "      <td>0.063240</td>\n",
       "      <td>-0.247141</td>\n",
       "      <td>-0.249080</td>\n",
       "      <td>0.240094</td>\n",
       "      <td>0.169018</td>\n",
       "      <td>0.640053</td>\n",
       "      <td>-0.039831</td>\n",
       "      <td>-0.345385</td>\n",
       "      <td>-0.233373</td>\n",
       "      <td>-0.006544</td>\n",
       "    </tr>\n",
       "    <tr>\n",
       "      <th>74481-Train</th>\n",
       "      <td>-0.109742</td>\n",
       "      <td>-0.408430</td>\n",
       "      <td>0.702450</td>\n",
       "      <td>0.077261</td>\n",
       "      <td>1.008509</td>\n",
       "      <td>1.183906</td>\n",
       "      <td>0.480831</td>\n",
       "      <td>0.641715</td>\n",
       "      <td>0.194911</td>\n",
       "      <td>-1.576622</td>\n",
       "      <td>...</td>\n",
       "      <td>-0.144079</td>\n",
       "      <td>0.475470</td>\n",
       "      <td>-0.249080</td>\n",
       "      <td>0.240094</td>\n",
       "      <td>0.455636</td>\n",
       "      <td>0.640053</td>\n",
       "      <td>-0.039831</td>\n",
       "      <td>-0.345385</td>\n",
       "      <td>-0.233373</td>\n",
       "      <td>-0.006544</td>\n",
       "    </tr>\n",
       "  </tbody>\n",
       "</table>\n",
       "<p>5 rows × 33 columns</p>\n",
       "</div>"
      ],
      "text/plain": [
       "                Var_1     Var_2     Var_3     Var_4     Var_5     Var_6  \\\n",
       "index                                                                     \n",
       "60075-Train -0.109742  1.134404 -1.009085 -3.644704 -1.627865 -0.470549   \n",
       "27225-Train -0.109742  0.075986  0.977945 -0.731477 -1.627865 -0.470549   \n",
       "403-Train   -0.109742  0.075986  0.702450 -0.631123  0.562187 -0.470549   \n",
       "27953-Train -0.109742 -0.408430  0.702450  1.045385  0.613346 -0.470549   \n",
       "74481-Train -0.109742 -0.408430  0.702450  0.077261  1.008509  1.183906   \n",
       "\n",
       "                Var_7     Var_8     Var_9    Var_10  ...    Var_27    Var_28  \\\n",
       "index                                                ...                       \n",
       "60075-Train  0.480831  0.641715  0.194911  0.634267  ... -0.144079 -0.247141   \n",
       "27225-Train  0.480831  0.641715  0.194911  0.634267  ... -0.144079 -0.247141   \n",
       "403-Train    0.480831  0.641715  0.194911  0.634267  ...  0.063240 -0.247141   \n",
       "27953-Train  0.480831  0.641715  0.194911  0.634267  ...  0.063240 -0.247141   \n",
       "74481-Train  0.480831  0.641715  0.194911 -1.576622  ... -0.144079  0.475470   \n",
       "\n",
       "               Var_30    Var_31    Var_33    Var_34    Var_36    Var_38  \\\n",
       "index                                                                     \n",
       "60075-Train -0.249080  0.240094 -0.396241 -1.289230 -0.039831 -0.345385   \n",
       "27225-Train -0.249080  0.240094  0.533820  0.640053 -0.039831 -0.345385   \n",
       "403-Train    4.014773  0.240094  2.491077  0.640053 -0.039831 -0.345385   \n",
       "27953-Train -0.249080  0.240094  0.169018  0.640053 -0.039831 -0.345385   \n",
       "74481-Train -0.249080  0.240094  0.455636  0.640053 -0.039831 -0.345385   \n",
       "\n",
       "               Var_39    Var_41  \n",
       "index                            \n",
       "60075-Train -0.233373 -0.006544  \n",
       "27225-Train -0.233373 -0.006544  \n",
       "403-Train   -0.233373 -0.006544  \n",
       "27953-Train -0.233373 -0.006544  \n",
       "74481-Train -0.233373 -0.006544  \n",
       "\n",
       "[5 rows x 33 columns]"
      ]
     },
     "execution_count": 7,
     "metadata": {},
     "output_type": "execute_result"
    }
   ],
   "source": [
    "X_train.head()"
   ]
  },
  {
   "cell_type": "markdown",
   "metadata": {},
   "source": [
    "<a id=’b’></a>\n",
    "## 2. DQN"
   ]
  },
  {
   "cell_type": "code",
   "execution_count": 16,
   "metadata": {},
   "outputs": [],
   "source": [
    "y_train_predict_resampled_tuned = pd.read_pickle('./RL predictions/y_train_predict.pkl')\n",
    "y_val_predict_resampled_tuned = pd.read_pickle('./RL predictions/y_val_predict.pkl')\n",
    "y_test_predict_resampled_tuned = pd.read_pickle('./RL predictions/y_test_predict.pkl')\n",
    "y_train_predict_proba_resampled_tuned = pd.read_pickle('./RL predictions/y_train_predict_proba.pkl')\n",
    "y_val_predict_proba_resampled_tuned = pd.read_pickle('./RL predictions/y_val_predict_proba.pkl')\n",
    "y_test_predict_proba_resampled_tuned = pd.read_pickle('./RL predictions/y_test_predict_proba.pkl')"
   ]
  },
  {
   "cell_type": "code",
   "execution_count": 18,
   "metadata": {},
   "outputs": [
    {
     "name": "stdout",
     "output_type": "stream",
     "text": [
      "R&T Model: \taccuracy: 0.9737 \tprecision: 0.1039 \trecall: 0.2133 \tf1: 0.1397 \troc_auc: 0.3521 \tlift: 16.0\n"
     ]
    }
   ],
   "source": [
    "accuracy = accuracy_score(y_val,y_val_predict_resampled_tuned)\n",
    "precision = precision_score(y_val,y_val_predict_resampled_tuned)\n",
    "recall = recall_score(y_val,y_val_predict_resampled_tuned)\n",
    "f1 = f1_score(y_val,y_val_predict_resampled_tuned)\n",
    "roc_auc = roc_auc_score(y_val,y_val_predict_proba_resampled_tuned)\n",
    "lift_score = lift_scorer(y_val, y_val_predict_proba_resampled_tuned)\n",
    "print('R&T Model:', '\\taccuracy:', round(accuracy,4), '\\tprecision:', round(precision,4), '\\trecall:', round(recall,4), '\\tf1:', round(f1,4), '\\troc_auc:', round(roc_auc,4), '\\tlift:', round(lift_score,4))"
   ]
  },
  {
   "cell_type": "code",
   "execution_count": 19,
   "metadata": {},
   "outputs": [
    {
     "name": "stdout",
     "output_type": "stream",
     "text": [
      "----------------------------------------------------------------------------------\n",
      "CM Resampled & Tuned\n",
      "[[7287  138]\n",
      " [  59   16]]\n",
      "----------------------------------------------------------------------------------\n"
     ]
    }
   ],
   "source": [
    "cm_resampled_tuned = confusion_matrix(y_val,y_val_predict_resampled_tuned) #Create a confusion matrix of GT labels and predictions\n",
    "print('----------------------------------------------------------------------------------')\n",
    "print('CM Resampled & Tuned')\n",
    "print(cm_resampled_tuned)\n",
    "print('----------------------------------------------------------------------------------')"
   ]
  },
  {
   "cell_type": "code",
   "execution_count": 23,
   "metadata": {},
   "outputs": [],
   "source": [
    "y_train_predict_resampled_tuned = pd.read_pickle('./RL predictions/y_train_predict.pkl')\n",
    "y_val_predict_resampled_tuned = pd.read_pickle('./RL predictions/y_val_predict.pkl')\n",
    "y_test_predict_resampled_tuned = pd.read_pickle('./RL predictions/y_test_predict.pkl')\n",
    "y_train_predict_proba_resampled_tuned = pd.read_pickle('./RL predictions/y_train_predict_proba.pkl')\n",
    "y_val_predict_proba_resampled_tuned = pd.read_pickle('./RL predictions/y_val_predict_proba.pkl')\n",
    "y_test_predict_proba_resampled_tuned = pd.read_pickle('./RL predictions/y_test_predict_proba.pkl')"
   ]
  },
  {
   "cell_type": "code",
   "execution_count": 24,
   "metadata": {},
   "outputs": [
    {
     "name": "stdout",
     "output_type": "stream",
     "text": [
      "Plot DQN curves of Resampled & Tuned Model:\n"
     ]
    },
    {
     "data": {
      "image/png": "[encoded data removed]",
      "text/plain": [
       "<Figure size 1200x400 with 3 Axes>"
      ]
     },
     "metadata": {},
     "output_type": "display_data"
    },
    {
     "name": "stdout",
     "output_type": "stream",
     "text": [
      "PR_AUC Train: 0.068 \t| PR_AUC Val: 0.051 \t| PR_AUC Test: 0.0744\n"
     ]
    }
   ],
   "source": [
    "print('Plot DQN curves of Resampled & Tuned Model:')\n",
    "\n",
    "fig, ((ax1, ax2, ax3)) = plt.subplots(nrows=1, ncols=3, figsize=(12, 4))\n",
    "\n",
    "precision_train, recall_train, _ = precision_recall_curve(y_train, y_train_predict_proba_resampled_tuned)\n",
    "AP_train = average_precision_score(y_train, y_train_predict_proba_resampled_tuned)\n",
    "PR_curve_train = PrecisionRecallDisplay(precision_train, recall_train, average_precision = AP_train)\n",
    "ax1.set_title(\"Train\")\n",
    "PR_curve_train.plot(ax1)\n",
    "plt.subplot(1, 3, 2)\n",
    "precision_val, recall_val, _ = precision_recall_curve(y_val, y_val_predict_proba_resampled_tuned)\n",
    "AP_val = average_precision_score(y_val, y_val_predict_proba_resampled_tuned)\n",
    "PR_curve_val = PrecisionRecallDisplay(precision_val, recall_val, average_precision = AP_val)\n",
    "ax2.set_title(\"Val\")\n",
    "PR_curve_val.plot(ax2)\n",
    "plt.subplot(1, 3, 3)\n",
    "precision_test, recall_test, _ = precision_recall_curve(y_test, y_test_predict_proba_resampled_tuned)\n",
    "AP_test = average_precision_score(y_test, y_test_predict_proba_resampled_tuned)\n",
    "PR_curve_test = PrecisionRecallDisplay(precision_test, recall_test, average_precision = AP_test)\n",
    "ax3.set_title(\"Test\")\n",
    "PR_curve_test.plot(ax3)\n",
    "plt.show()\n",
    "\n",
    "print('PR_AUC Train:', round(AP_train, 4),'\\t| PR_AUC Val:', round(AP_val, 4),'\\t| PR_AUC Test:', round(AP_test, 4))"
   ]
  },
  {
   "cell_type": "code",
   "execution_count": 25,
   "metadata": {},
   "outputs": [
    {
     "name": "stdout",
     "output_type": "stream",
     "text": [
      "R&T Model Train: \taccuracy: 0.974 \tprecision: 0.1242 \trecall: 0.265 \tf1: 0.1691 \troc_auc: 0.3953 \tpr_auc: 0.068 \tlift_score: 17.2\n",
      "R&T Model Val: \t\taccuracy: 0.9737 \tprecision: 0.1039 \trecall: 0.2133 \tf1: 0.1397 \troc_auc: 0.3521 \tpr_auc: 0.051 \tlift_score: 16.0\n",
      "R&T Model Test: \taccuracy: 0.9727 \tprecision: 0.1264 \trecall: 0.2933 \tf1: 0.1767 \troc_auc: 0.4308 \tpr_auc: 0.0744 \tlift_score: 21.3\n"
     ]
    }
   ],
   "source": [
    "accuracy = accuracy_score(y_train,y_train_predict_resampled_tuned)\n",
    "precision = precision_score(y_train,y_train_predict_resampled_tuned)\n",
    "recall = recall_score(y_train,y_train_predict_resampled_tuned)\n",
    "f1 = f1_score(y_train,y_train_predict_resampled_tuned)\n",
    "roc_auc = roc_auc_score(y_train,y_train_predict_proba_resampled_tuned)\n",
    "pr_auc = average_precision_score(y_train, y_train_predict_proba_resampled_tuned)\n",
    "lift_score = lift_scorer(y_train, y_train_predict_proba_resampled_tuned)\n",
    "print('R&T Model Train:', '\\taccuracy:', round(accuracy,4), '\\tprecision:', round(precision,4), '\\trecall:', round(recall,4), '\\tf1:', round(f1,4), '\\troc_auc:', round(roc_auc,4), '\\tpr_auc:', round(pr_auc,4), '\\tlift_score:', round(lift_score,4))\n",
    "\n",
    "accuracy = accuracy_score(y_val,y_val_predict_resampled_tuned)\n",
    "precision = precision_score(y_val,y_val_predict_resampled_tuned)\n",
    "recall = recall_score(y_val,y_val_predict_resampled_tuned)\n",
    "f1 = f1_score(y_val,y_val_predict_resampled_tuned)\n",
    "roc_auc = roc_auc_score(y_val,y_val_predict_proba_resampled_tuned)\n",
    "pr_auc = average_precision_score(y_val, y_val_predict_proba_resampled_tuned)\n",
    "lift_score = lift_scorer(y_val, y_val_predict_proba_resampled_tuned)\n",
    "print('R&T Model Val:', '\\t\\taccuracy:', round(accuracy,4), '\\tprecision:', round(precision,4), '\\trecall:', round(recall,4), '\\tf1:', round(f1,4), '\\troc_auc:', round(roc_auc,4), '\\tpr_auc:', round(pr_auc,4), '\\tlift_score:', round(lift_score,4))\n",
    "\n",
    "accuracy = accuracy_score(y_test,y_test_predict_resampled_tuned)\n",
    "precision = precision_score(y_test,y_test_predict_resampled_tuned)\n",
    "recall = recall_score(y_test,y_test_predict_resampled_tuned)\n",
    "f1 = f1_score(y_test,y_test_predict_resampled_tuned)\n",
    "roc_auc = roc_auc_score(y_test,y_test_predict_proba_resampled_tuned)\n",
    "pr_auc = average_precision_score(y_test, y_test_predict_proba_resampled_tuned)\n",
    "lift_score = lift_scorer(y_test, y_test_predict_proba_resampled_tuned)\n",
    "print('R&T Model Test:', '\\taccuracy:', round(accuracy,4), '\\tprecision:', round(precision,4), '\\trecall:', round(recall,4), '\\tf1:', round(f1,4), '\\troc_auc:', round(roc_auc,4), '\\tpr_auc:', round(pr_auc,4), '\\tlift_score:', round(lift_score,4))"
   ]
  },
  {
   "cell_type": "code",
   "execution_count": null,
   "metadata": {},
   "outputs": [],
   "source": []
  }
 ],
 "metadata": {
  "interpreter": {
   "hash": "7f01af60df4dae81f0c323ee0136f287c5072eb1d3817d233a292b18a1c6a773"
  },
  "kernelspec": {
   "display_name": "Python 3.8.11 ('DL')",
   "language": "python",
   "name": "python3"
  },
  "language_info": {
   "codemirror_mode": {
    "name": "ipython",
    "version": 3
   },
   "file_extension": ".py",
   "mimetype": "text/x-python",
   "name": "python",
   "nbconvert_exporter": "python",
   "pygments_lexer": "ipython3",
   "version": "3.8.11"
  }
 },
 "nbformat": 4,
 "nbformat_minor": 2
}
